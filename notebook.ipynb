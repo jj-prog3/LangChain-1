{
 "cells": [
  {
   "cell_type": "code",
   "execution_count": null,
   "id": "5900652f",
   "metadata": {},
   "outputs": [],
   "source": [
    "import os\n",
    "from dotenv import load_dotenv\n",
    "# .env 파일에서 환경 변수를 로드합니다.\n",
    "load_dotenv()\n",
    "\n",
    "from langchain.chat_models import ChatOpenAI\n",
    "#chat = ChatOpenAI()\n",
    "\n",
    "# API 키가 제대로 로드되었는지 확인 (선택 사항이지만 강력히 추천)\n",
    "api_key = os.getenv(\"OPENAI_API_KEY\")\n",
    "\n",
    "if not api_key:\n",
    "    print(\"🚨 OPENAI_API_KEY가 로드되지 않았습니다! .env 파일을 확인하세요.\")\n",
    "else:\n",
    "    print(\"✅ OPENAI_API_KEY가 성공적으로 로드되었습니다.\")\n",
    "\n",
    "    # 이제 ChatOpenAI 객체를 생성합니다.\n",
    "    try:\n",
    "        print(\"ChatOpenAI 객체 생성을 시작합니다...\")\n",
    "        chat = ChatOpenAI()\n",
    "        print(\"✅ ChatOpenAI 객체 생성 완료!\")\n",
    "        # 간단한 테스트 실행\n",
    "        # response = chat.invoke(\"안녕하세요!\")\n",
    "        # print(response)\n",
    "    except Exception as e:\n",
    "        print(f\"🚨 객체 생성 중 오류 발생: {e}\")\n",
    "\n",
    "print(\"Done!\")"
   ]
  },
  {
   "cell_type": "markdown",
   "id": "2427020b",
   "metadata": {},
   "source": []
  },
  {
   "cell_type": "code",
   "execution_count": null,
   "id": "cc7f60c2",
   "metadata": {},
   "outputs": [],
   "source": []
  }
 ],
 "metadata": {
  "kernelspec": {
   "display_name": "env (3.13.2)",
   "language": "python",
   "name": "python3"
  },
  "language_info": {
   "codemirror_mode": {
    "name": "ipython",
    "version": 3
   },
   "file_extension": ".py",
   "mimetype": "text/x-python",
   "name": "python",
   "nbconvert_exporter": "python",
   "pygments_lexer": "ipython3",
   "version": "3.13.2"
  }
 },
 "nbformat": 4,
 "nbformat_minor": 5
}
