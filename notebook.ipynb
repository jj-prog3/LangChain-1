{
 "cells": [
  {
   "cell_type": "markdown",
   "id": "2427020b",
   "metadata": {},
   "source": []
  },
  {
   "cell_type": "code",
   "execution_count": null,
   "id": "cc7f60c2",
   "metadata": {},
   "outputs": [],
   "source": [
    "from langchain_openai import ChatOpenAI\n",
    "from langchain_core.prompts import ChatPromptTemplate\n",
    "from langchain_core.output_parsers import StrOutputParser\n",
    "\n",
    "model = ChatOpenAI(model=\"gpt-3.5-turbo\")\n",
    "\n",
    "poem_prompt = ChatPromptTemplate.from_template(\"{language}에 대한 짧은 시를 만들어줘.\")\n",
    "desc_prompt = ChatPromptTemplate.from_template(\"다음 시를 간단히 설명해줘: {poem}\")\n"
   ]
  },
  {
   "cell_type": "code",
   "execution_count": null,
   "id": "e8bfa3ec",
   "metadata": {},
   "outputs": [],
   "source": [
    "poem_chain = poem_prompt | model | StrOutputParser()\n",
    "desc_chain = {\"poem\":poem_chain} | desc_prompt | model | StrOutputParser()\n",
    "\n",
    "from langchain_core.runnables import RunnablePassthrough\n",
    "\n",
    "chain = (\n",
    "    {\"poem\": poem_chain, \"language\": RunnablePassthrough()} \n",
    "    | RunnablePassthrough.assign(explanation=desc_chain)\n",
    "\n",
    ")"
   ]
  },
  {
   "cell_type": "code",
   "execution_count": 15,
   "id": "7aae0990",
   "metadata": {},
   "outputs": [
    {
     "name": "stdout",
     "output_type": "stream",
     "text": [
      "==== 언어: Python\n",
      "==== 시:\n",
      "코드를 타고 날아다니는 파이썬,\n",
      "언제나 즐겁게 나의 일을 도와주는.\n",
      "간결하고 강력한 그 힘,\n",
      "나의 모든 고민을 해결해 주는 파이썬.\n",
      "==== 설명:\n",
      "이 시는 파이썬 프로그래밍 언어를 소개하는 시로, 파이썬의 간단한 문법과 다양한 용도로 사용될 수 있는 특징을 강조하고 있다. 파이썬을 사용하면 데이터 처리나 웹 개발 등을 쉽게 할 수 있으며, 사용자는 걱정 없이 파이썬을 익히고 활용할 수 있다는 메시지를 전달하고 있다.\n"
     ]
    }
   ],
   "source": [
    "result = chain.invoke(\"Python\")\n",
    "\n",
    "print(\"==== 언어:\", result[\"language\"])\n",
    "print(\"==== 시:\")\n",
    "print(result[\"poem\"])\n",
    "print(\"==== 설명:\")\n",
    "print(result[\"explanation\"])"
   ]
  }
 ],
 "metadata": {
  "kernelspec": {
   "display_name": "env (3.13.2)",
   "language": "python",
   "name": "python3"
  },
  "language_info": {
   "codemirror_mode": {
    "name": "ipython",
    "version": 3
   },
   "file_extension": ".py",
   "mimetype": "text/x-python",
   "name": "python",
   "nbconvert_exporter": "python",
   "pygments_lexer": "ipython3",
   "version": "3.13.2"
  }
 },
 "nbformat": 4,
 "nbformat_minor": 5
}
