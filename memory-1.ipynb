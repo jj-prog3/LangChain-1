{
 "cells": [
  {
   "cell_type": "code",
   "execution_count": 3,
   "id": "9abba734",
   "metadata": {},
   "outputs": [
    {
     "name": "stdout",
     "output_type": "stream",
     "text": [
      "Human: 겨울왕국\n",
      "AI: ❄️👸⛄️\n",
      "Human: 반지의 제왕\n",
      "AI: 🧝‍♂️💍👑\n"
     ]
    }
   ],
   "source": [
    "from langchain_openai import ChatOpenAI\n",
    "from langchain.memory import ConversationSummaryBufferMemory\n",
    "from langchain.prompts import ChatPromptTemplate, FewShotChatMessagePromptTemplate, MessagesPlaceholder\n",
    "from langchain.schema.runnable import RunnablePassthrough\n",
    "from langchain_core.output_parsers import StrOutputParser\n",
    "\n",
    "llm = ChatOpenAI(\n",
    "    temperature=0.1\n",
    ")\n",
    "\n",
    "memory = ConversationSummaryBufferMemory(\n",
    "    llm = llm,\n",
    "    max_token_limit= 120,\n",
    "    return_messages=True,\n",
    ")\n",
    "\n",
    "examples = [\n",
    "    {\"input\": \"탑건\", \"output\": \"🛩️👨‍✈️🔥\"},\n",
    "    {\"input\": \"대부\", \"output\": \"👨‍👨‍👦🔫🍝\"},\n",
    "    {\"input\": \"타이타닉\", \"output\": \"🚢🧊❤️\"},\n",
    "]\n",
    "\n",
    "example_prompt = ChatPromptTemplate.from_messages(\n",
    "    [\n",
    "        (\"human\", \"{input}\"),\n",
    "        (\"ai\", \"{output}\"),\n",
    "    ]\n",
    ")\n",
    "\n",
    "few_shot_prompt = FewShotChatMessagePromptTemplate(\n",
    "    example_prompt = example_prompt,\n",
    "    examples = examples,\n",
    ")\n",
    "\n",
    "final_prompt = ChatPromptTemplate.from_messages(\n",
    "    [\n",
    "        (\"system\", \"영화 제목을 받으면, 그 영화를 나타내는 3개의 이모티콘으로 응답해야 하는 챗봇입니다.\"),\n",
    "        few_shot_prompt,\n",
    "        MessagesPlaceholder(variable_name=\"history\"),\n",
    "        (\"human\", \"{question}\")\n",
    "    ]\n",
    ")\n",
    "\n",
    "def load_memory(_):\n",
    "    return memory.load_memory_variables({})[\"history\"]\n",
    "\n",
    "chain = RunnablePassthrough.assign(history=load_memory) | final_prompt | llm | StrOutputParser()\n",
    "\n",
    "def invoke_chain(question):\n",
    "    result = chain.invoke({\"question\":question})\n",
    "    memory.save_context(\n",
    "        {\"input\": question},\n",
    "        {\"output\": result},\n",
    "    )\n",
    "    print(f\"Human: {question}\")\n",
    "    print(f\"AI: {result}\")\n",
    "    \n",
    "invoke_chain(\"겨울왕국\")\n",
    "invoke_chain(\"반지의 제왕\")\n"
   ]
  },
  {
   "cell_type": "code",
   "execution_count": 4,
   "id": "8560cdc9",
   "metadata": {},
   "outputs": [
    {
     "name": "stdout",
     "output_type": "stream",
     "text": [
      "Human: 처음으로 물어본 영화는?\n",
      "AI: 처음으로 물어본 영화는 '탑건'이었습니다!\n"
     ]
    }
   ],
   "source": [
    "invoke_chain(\"처음으로 물어본 영화는?\")"
   ]
  }
 ],
 "metadata": {
  "kernelspec": {
   "display_name": "env (3.13.2)",
   "language": "python",
   "name": "python3"
  },
  "language_info": {
   "codemirror_mode": {
    "name": "ipython",
    "version": 3
   },
   "file_extension": ".py",
   "mimetype": "text/x-python",
   "name": "python",
   "nbconvert_exporter": "python",
   "pygments_lexer": "ipython3",
   "version": "3.13.2"
  }
 },
 "nbformat": 4,
 "nbformat_minor": 5
}
