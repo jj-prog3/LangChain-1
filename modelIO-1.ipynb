{
 "cells": [
  {
   "cell_type": "code",
   "execution_count": 2,
   "id": "5fee024f",
   "metadata": {},
   "outputs": [
    {
     "name": "stdout",
     "output_type": "stream",
     "text": [
      "\n",
      "        - 감독: 크리스토퍼 놀란\n",
      "        - 주요 출연진: 크리스찬 베일, 히스 레저, 앤 해서웨이\n",
      "        - 장르: 액션, 범죄, 드라마\n",
      "        - 예산: 1억 85만 달러\n",
      "        "
     ]
    },
    {
     "data": {
      "text/plain": [
       "AIMessage(content='\\n        - 감독: 크리스토퍼 놀란\\n        - 주요 출연진: 크리스찬 베일, 히스 레저, 앤 해서웨이\\n        - 장르: 액션, 범죄, 드라마\\n        - 예산: 1억 85만 달러\\n        ', additional_kwargs={}, response_metadata={'finish_reason': 'stop', 'model_name': 'gpt-3.5-turbo-0125', 'service_tier': 'default'}, id='run--68578236-ffe4-4e29-b065-aa111268c2fa-0', usage_metadata={'input_tokens': 395, 'output_tokens': 101, 'total_tokens': 496, 'input_token_details': {'audio': 0, 'cache_read': 0}, 'output_token_details': {'audio': 0, 'reasoning': 0}})"
      ]
     },
     "execution_count": 2,
     "metadata": {},
     "output_type": "execute_result"
    }
   ],
   "source": [
    "\n",
    "from langchain_openai import ChatOpenAI\n",
    "from langchain.prompts import ChatPromptTemplate\n",
    "from langchain.prompts.few_shot import FewShotChatMessagePromptTemplate\n",
    "from langchain.callbacks.streaming_stdout import StreamingStdOutCallbackHandler\n",
    "\n",
    "chat = ChatOpenAI(\n",
    "    temperature=0.1,\n",
    "    streaming=True,\n",
    "    callbacks=[\n",
    "        StreamingStdOutCallbackHandler(),\n",
    "    ],\n",
    ")\n",
    "\n",
    "examples = [\n",
    "    {\n",
    "        \"movie_title\": \"기생충\",\n",
    "        \"answer\": \"\"\"\n",
    "        - 감독:  봉준호\n",
    "        - 주요 출연진: 송강호, 이선균, 조여정, 최우식, 박소담\n",
    "        - 장르: 드라마, 스릴러, 코미디\n",
    "        - 예산: 약 1,550만 달러\n",
    "        - 시놉시스: 전원 백수인 기택네 장남 기우가 고액 과외 면접을 위해 박사장네 집에 발을 들이면서 시작되는 두 가족의 걷잡을 수 없는 만남을 그린 이야기.\n",
    "        \"\"\",\n",
    "    },\n",
    "    {\n",
    "        \"movie_title\": \"인셉션\",\n",
    "        \"answer\": \"\"\"\n",
    "        - 감독: 크리스토퍼 놀란\n",
    "        - 주요 출연진: 레오나르도 디카프리오, 조셉 고든 레빗, 엘리엇 페이지\n",
    "        - 장르: SF, 액션, 스릴러\n",
    "        - 예산: 1억 6,000만 달러\n",
    "        \"\"\",\n",
    "    },\n",
    "]\n",
    "\n",
    "example_prompt = ChatPromptTemplate.from_messages(\n",
    "    [\n",
    "        (\"human\", \"영화 {movie_title}에 대한 정보를 알려줘.\"),\n",
    "        (\"ai\", \"{answer}\")\n",
    "    ]\n",
    ")\n",
    "\n",
    "few_shot_prompt = FewShotChatMessagePromptTemplate(\n",
    "    example_prompt=example_prompt,\n",
    "    examples=examples,\n",
    ")\n",
    "\n",
    "final_prompt = ChatPromptTemplate.from_messages(\n",
    "    [\n",
    "        (\"system\", \"너는 영화정보를 제공하는 어시스턴트야.\"),\n",
    "        few_shot_prompt,\n",
    "        (\"human\", \"영화 {movie_title}에 대한 정보를 알려줘.\")\n",
    "    ]\n",
    ")\n",
    "\n",
    "chain = final_prompt | chat\n",
    "\n",
    "chain.invoke({\"movie_title\": \"다크 나이트\"})\n"
   ]
  }
 ],
 "metadata": {
  "kernelspec": {
   "display_name": "env (3.13.2)",
   "language": "python",
   "name": "python3"
  },
  "language_info": {
   "codemirror_mode": {
    "name": "ipython",
    "version": 3
   },
   "file_extension": ".py",
   "mimetype": "text/x-python",
   "name": "python",
   "nbconvert_exporter": "python",
   "pygments_lexer": "ipython3",
   "version": "3.13.2"
  }
 },
 "nbformat": 4,
 "nbformat_minor": 5
}
